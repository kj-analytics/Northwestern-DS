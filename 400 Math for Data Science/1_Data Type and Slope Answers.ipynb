{
 "cells": [
  {
   "cell_type": "markdown",
   "metadata": {},
   "source": [
    "# Data Type and Slope Answers"
   ]
  },
  {
   "cell_type": "markdown",
   "metadata": {},
   "source": [
    "## Data Type Answers\n",
    "\n",
    "Write and execute code for the following exercises. Compare to the answer sheets. These problems can be solved using the interpreter.\n",
    "\n",
    "Exercise 2.4 of \"Think Python\" is repeated below. Do these calculations. For the value of pi, use 3.14159.\n",
    "\n",
    "**Exercise 1:** The volume of a sphere with radius r is (4/3)(pi)r ** 3. What is the volume of a sphere with radius 5? (392.6 is wrong!)"
   ]
  },
  {
   "cell_type": "code",
   "execution_count": 1,
   "metadata": {},
   "outputs": [
    {
     "data": {
      "text/plain": [
       "523.6"
      ]
     },
     "execution_count": 1,
     "metadata": {},
     "output_type": "execute_result"
    }
   ],
   "source": [
    "r=5.0 \n",
    "\n",
    "pi=3.14159 \n",
    "\n",
    "volume=(4.0/3)*pi*r**3 \n",
    "\n",
    "round(volume,1) \n"
   ]
  },
  {
   "cell_type": "markdown",
   "metadata": {},
   "source": [
    "## Slope Answers\n",
    "\n",
    "**Exercise 2:**  Suppose the cover price of a book is $24.95, but bookstores get\n",
    "a 40% discount. Shipping costs $3 for the first copy and 75 cents for each \n",
    "additional copy.  What is the total wholesale cost for 60 copies?"
   ]
  },
  {
   "cell_type": "code",
   "execution_count": 2,
   "metadata": {},
   "outputs": [
    {
     "data": {
      "text/plain": [
       "945.45"
      ]
     },
     "execution_count": 2,
     "metadata": {},
     "output_type": "execute_result"
    }
   ],
   "source": [
    "price=24.95 \n",
    " \n",
    "discount=0.4 \n",
    " \n",
    "cost=60*(1-discount)*price+3+0.75*59 \n",
    " \n",
    "round(cost,2) \n"
   ]
  },
  {
   "cell_type": "markdown",
   "metadata": {},
   "source": [
    "## Practice 1\n",
    "\n",
    "**Exercise 3:** If I leave my house at 6:52 am and run 1 mile at an easy pace (8:15 per mile), then 3 miles at tempo (7:12 per mile) and 1 mile at easy pace again, what time do I get home for breakfast?"
   ]
  },
  {
   "cell_type": "code",
   "execution_count": 3,
   "metadata": {},
   "outputs": [
    {
     "name": "stdout",
     "output_type": "stream",
     "text": [
      "7:30 am\n"
     ]
    }
   ],
   "source": [
    "start=6*60+52 \n",
    " \n",
    "time=2*(8+15/60.0)+3*(7+12/60.0) \n",
    " \n",
    "total=start+time \n",
    " \n",
    "hour=int(total/60) \n",
    " \n",
    "minutes=int(total%60) \n",
    " \n",
    "print(\"{0}:{1} am\".format(hour,minutes))"
   ]
  },
  {
   "cell_type": "markdown",
   "metadata": {},
   "source": [
    "## Practice 2 \n",
    "\n",
    "**Exercise 1:** Use Python graphically to solve the supply and demand problem shown in Example 2 Section 1.2 of Lial. Compare your code and plot to the answer sheet."
   ]
  },
  {
   "cell_type": "code",
   "execution_count": 2,
   "metadata": {},
   "outputs": [
    {
     "data": {
      "text/plain": [
       "Text(0.5,1,'Breakeven Analysis')"
      ]
     },
     "execution_count": 2,
     "metadata": {},
     "output_type": "execute_result"
    },
    {
     "data": {
      "image/png": "[encoded data removed]",
      "text/plain": [
       "<matplotlib.figure.Figure at 0x11917ebe0>"
      ]
     },
     "metadata": {},
     "output_type": "display_data"
    }
   ],
   "source": [
    "import matplotlib.pyplot \n",
    "from matplotlib.pyplot import * \n",
    "import numpy \n",
    "from numpy import linspace\n",
    "\n",
    "figure() \n",
    "q= linspace(0,12,100) \n",
    "price= 9-0.75*q \n",
    "supply= 0.75*q \n",
    "plot (q,price, 'r') \n",
    "plot (q,supply, 'b') \n",
    "legend (['price','supply']) \n",
    "title ('Breakeven Analysis') "
   ]
  },
  {
   "cell_type": "markdown",
   "metadata": {},
   "source": [
    "## Practice 2\n",
    "\n",
    "Exercise 2: Using Python as a calculator, calculate the correlation coefficient in Example 4 of Section 1.3 of Lial. Compare your code and computed result with the answer sheet."
   ]
  },
  {
   "cell_type": "code",
   "execution_count": 5,
   "metadata": {},
   "outputs": [
    {
     "data": {
      "text/plain": [
       "-0.9407285327256869"
      ]
     },
     "execution_count": 5,
     "metadata": {},
     "output_type": "execute_result"
    }
   ],
   "source": [
    "n=10 \n",
    "x=650.0 \n",
    "y=550.2\n",
    "xy=31592\n",
    "x2=50500\n",
    "y2=32654.86\n",
    "r=((n*x2-x*x)*(n*y2-y*y))**0.5 \n",
    "r=(n*xy-x*y)/r \n",
    "r "
   ]
  },
  {
   "cell_type": "code",
   "execution_count": null,
   "metadata": {},
   "outputs": [],
   "source": []
  }
 ],
 "metadata": {
  "kernelspec": {
   "display_name": "Python 3",
   "language": "python",
   "name": "python3"
  },
  "language_info": {
   "codemirror_mode": {
    "name": "ipython",
    "version": 3
   },
   "file_extension": ".py",
   "mimetype": "text/x-python",
   "name": "python",
   "nbconvert_exporter": "python",
   "pygments_lexer": "ipython3",
   "version": "3.8.8"
  }
 },
 "nbformat": 4,
 "nbformat_minor": 2
}

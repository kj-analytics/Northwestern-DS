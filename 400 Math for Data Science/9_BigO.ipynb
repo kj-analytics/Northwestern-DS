{
 "cells": [
  {
   "cell_type": "markdown",
   "metadata": {},
   "source": [
    "# BigO Practice\n",
    "\n",
    "This excercise covers several computational issues in python as well as their Big O complexity."
   ]
  },
  {
   "cell_type": "code",
   "execution_count": 1,
   "metadata": {},
   "outputs": [],
   "source": [
    "import random\n",
    "list_of_nums = list(range(1000))  # A sorted list of numbers we will use in the functions below\n",
    "\n",
    "unsorted_nums = list(range(1000))\n",
    "random.shuffle(list_of_nums)  # shuffles the sorted numbers in place"
   ]
  },
  {
   "cell_type": "markdown",
   "metadata": {},
   "source": [
    "Big O Complexity helps us understand the CPU required to execute a command. Some of the common complexities are:\n",
    "    \n",
    "- O(1): Always takes the same time to execute regardless of the size of the data\n",
    "- O(N): An algorithm whose performance will grow linearly and in direct proportion to the size of the input data set. \n",
    "- O(N<sup>2</sup>): An algorithm whose performance is the square of the size of the input data set.\n",
    "- O(log N): A growth curve that spikes at the beginning and slowly flattens out as the size of the data sets increase\n",
    "\n",
    "We can prove these complexities by using the %timeit command before our final python command. This executes that command multiple times and gives a mean runtime with an accompanying standard deviation."
   ]
  },
  {
   "cell_type": "markdown",
   "metadata": {},
   "source": [
    "### Extreme Values\n",
    "Finding the largest or smallest values in Python can be done with the built in min() and max() functions. Each of these function has an O(N) complexity where N is the number of items in the list "
   ]
  },
  {
   "cell_type": "code",
   "execution_count": 2,
   "metadata": {},
   "outputs": [
    {
     "name": "stdout",
     "output_type": "stream",
     "text": [
      "21.4 µs ± 1.02 µs per loop (mean ± std. dev. of 7 runs, 10000 loops each)\n"
     ]
    }
   ],
   "source": [
    "small_set = range(1000)\n",
    "%timeit large_number = max(small_set)  # O(1000)"
   ]
  },
  {
   "cell_type": "code",
   "execution_count": 3,
   "metadata": {},
   "outputs": [
    {
     "name": "stdout",
     "output_type": "stream",
     "text": [
      "219 µs ± 5.31 µs per loop (mean ± std. dev. of 7 runs, 1000 loops each)\n"
     ]
    }
   ],
   "source": [
    "large_set = range(10000)\n",
    "%timeit larger_number = max(large_set)  # O(10000)"
   ]
  },
  {
   "cell_type": "markdown",
   "metadata": {},
   "source": [
    "### Bubble Sort\n",
    "Bubble sort is a method of ordering values that has always has an O(N<sup>2</sup>) complexity."
   ]
  },
  {
   "cell_type": "code",
   "execution_count": 4,
   "metadata": {},
   "outputs": [],
   "source": [
    "def bubble_sort(arr):\n",
    "    n = len(arr)  # Find the length of the list\n",
    " \n",
    "    # Loop through elements using index numbers are references\n",
    "    for i in range(n):\n",
    " \n",
    "        # Last i elements are already in place\n",
    "        for j in range(0, n-i-1):\n",
    "            # Swap elements j and j+1 if j is larger\n",
    "            if arr[j] > arr[j+1] :\n",
    "                arr[j], arr[j+1] = arr[j+1], arr[j]"
   ]
  },
  {
   "cell_type": "markdown",
   "metadata": {},
   "source": [
    "### Insertion Sort\n",
    "Insertion sort is a method of ordering values that has a best case of O(N) and a worst case of O(N<sup>2</sup>) complexity. If the list is mostly sorted already then it will have a much faster completion time."
   ]
  },
  {
   "cell_type": "code",
   "execution_count": 5,
   "metadata": {},
   "outputs": [],
   "source": [
    "def insertion_sort(arr):\n",
    "    n = len(arr) # Find the length of the list\n",
    "    \n",
    "    # Loop through all but the first element using index numbers as references\n",
    "    for i in range(1,n):\n",
    "        j = i # Temporary marker for the location. Don't modify the list/generator as you're looping\n",
    "\n",
    "        while j>0 and arr[j-1]>arr[i]:\n",
    "            # As long there are larger numbers to the left of the current value\n",
    "            arr[j]=arr[j-1]  # Swap places\n",
    "            j = j-1  # Look back one place futher\n",
    "    \n",
    "        arr[j] = arr[i]\n",
    "    return arr"
   ]
  },
  {
   "cell_type": "markdown",
   "metadata": {},
   "source": [
    "### Merge Sort\n",
    "Merge sort is a recursive (the function calls itself) sorting algorithm has always complexity of O(N log N). So for completely unsorted numbers, it can outperform the insertion sort. "
   ]
  },
  {
   "cell_type": "code",
   "execution_count": 6,
   "metadata": {},
   "outputs": [],
   "source": [
    "def merge(left, right):\n",
    "    if not left or not right:\n",
    "        # One of the two was empty, so return the one with content\n",
    "        return left or right\n",
    "\n",
    "    result = []\n",
    "    i, j = 0, 0  # Initizlize indices of 0 for each\n",
    "    while (len(result) < len(left) + len(right)):\n",
    "        if left[i] < right[j]:\n",
    "            result.append(left[i])\n",
    "            i+= 1\n",
    "        else:\n",
    "            result.append(right[j])\n",
    "            j+= 1\n",
    "        if i == len(left) or j == len(right):\n",
    "            result.extend(left[i:] or right[j:])\n",
    "            break # Fully merged\n",
    "\n",
    "    return result\n",
    "\n",
    "def merge_sort(arr):\n",
    "    if len(arr) < 2:\n",
    "        return arr\n",
    "\n",
    "    middle = len(arr)//2  # Split the list in two\n",
    "    left = merge_sort(arr[:middle])\n",
    "    right = merge_sort(arr[middle:])\n",
    "\n",
    "    return merge(left, right)\n"
   ]
  },
  {
   "cell_type": "markdown",
   "metadata": {},
   "source": [
    "Looking now at a list of numbers that is already sorted, we can see how the insertion sort approach outperforms bubblesort."
   ]
  },
  {
   "cell_type": "code",
   "execution_count": 7,
   "metadata": {},
   "outputs": [
    {
     "name": "stdout",
     "output_type": "stream",
     "text": [
      "41.2 ms ± 1.3 ms per loop (mean ± std. dev. of 7 runs, 10 loops each)\n"
     ]
    }
   ],
   "source": [
    "%timeit bubble_sort(list_of_nums)  # O(1000^2)"
   ]
  },
  {
   "cell_type": "code",
   "execution_count": 8,
   "metadata": {},
   "outputs": [
    {
     "name": "stdout",
     "output_type": "stream",
     "text": [
      "152 µs ± 1.41 µs per loop (mean ± std. dev. of 7 runs, 10000 loops each)\n"
     ]
    }
   ],
   "source": [
    "%timeit insertion_sort(list_of_nums)  # ~O(1000) because the list is already sorted"
   ]
  },
  {
   "cell_type": "code",
   "execution_count": 9,
   "metadata": {},
   "outputs": [
    {
     "name": "stdout",
     "output_type": "stream",
     "text": [
      "2.59 ms ± 53.4 µs per loop (mean ± std. dev. of 7 runs, 100 loops each)\n"
     ]
    }
   ],
   "source": [
    "%timeit merge_sort(list_of_nums) # O(1000 log 1000)"
   ]
  },
  {
   "cell_type": "markdown",
   "metadata": {},
   "source": [
    "Python lists have a sort method that is a python-optimized sorting algorithm that is a combination of insertion sort and merge sort. It will always be faster than the generic insertion and merge sort implementations above. This is accomplished through a lot of C code under the hood and python-specific optimizations."
   ]
  },
  {
   "cell_type": "code",
   "execution_count": 10,
   "metadata": {},
   "outputs": [
    {
     "name": "stdout",
     "output_type": "stream",
     "text": [
      "9.15 µs ± 80.5 ns per loop (mean ± std. dev. of 7 runs, 100000 loops each)\n"
     ]
    }
   ],
   "source": [
    "%timeit list_of_nums.sort()  "
   ]
  },
  {
   "cell_type": "markdown",
   "metadata": {},
   "source": [
    "## Search\n",
    "Finding an item in a list is often done through a linear search or a binary search. We will use a random number within our list for searching. This is done through the random.randrange() function. As the %timeit function does the searches several times, it will choose a new random number for each search."
   ]
  },
  {
   "cell_type": "markdown",
   "metadata": {},
   "source": [
    "### Linear Search\n",
    "The linear search algorithm walks through a list and returns the index when found. It has a complexity of O(N) on average."
   ]
  },
  {
   "cell_type": "code",
   "execution_count": 11,
   "metadata": {},
   "outputs": [],
   "source": [
    "def linear_search(arr, find_this):\n",
    "    # get the index (i) and the item each time we loop through arr\n",
    "    for i in range(len(arr)):\n",
    "        if arr[i] == find_this:\n",
    "            return i"
   ]
  },
  {
   "cell_type": "markdown",
   "metadata": {},
   "source": [
    "### Binary Search\n",
    "For lists that are sorted, a faster search method is the binary search algorithm that has a complexity of O(log N). The sorted list is subdivided and narrowing down the values it must compare."
   ]
  },
  {
   "cell_type": "code",
   "execution_count": 12,
   "metadata": {},
   "outputs": [],
   "source": [
    "def binary_search (arr, find_this, start_index=0, end_index=None):\n",
    "    if not end_index:\n",
    "        end_index = len(arr) - 1\n",
    "    \n",
    "    # Check base case\n",
    "    if end_index >= start_index:\n",
    "\n",
    "        mid = start_index + (end_index - start_index)//2\n",
    "\n",
    "        # If element is present at the middle itself\n",
    "        if arr[mid] == find_this:\n",
    "            return mid\n",
    "        \n",
    "        # If find_this is smaller than mid point look left\n",
    "        if arr[mid] > find_this:\n",
    "            return binary_search(arr, find_this, start_index, mid-1)\n",
    "\n",
    "        # Look right\n",
    "        else:\n",
    "            return binary_search(arr, find_this, mid+1, end_index)"
   ]
  },
  {
   "cell_type": "code",
   "execution_count": 13,
   "metadata": {},
   "outputs": [
    {
     "name": "stdout",
     "output_type": "stream",
     "text": [
      "24.3 µs ± 445 ns per loop (mean ± std. dev. of 7 runs, 10000 loops each)\n"
     ]
    }
   ],
   "source": [
    "%timeit linear_search(list_of_nums, random.randrange(1000))  # O(1000)"
   ]
  },
  {
   "cell_type": "code",
   "execution_count": 14,
   "metadata": {},
   "outputs": [
    {
     "name": "stdout",
     "output_type": "stream",
     "text": [
      "3.21 µs ± 42 ns per loop (mean ± std. dev. of 7 runs, 100000 loops each)\n"
     ]
    }
   ],
   "source": [
    "%timeit binary_search(list_of_nums, random.randrange(1000))  # O(Log 1000)"
   ]
  },
  {
   "cell_type": "markdown",
   "metadata": {},
   "source": [
    "The binary search is faster, but requires that the list is sorted. If the list is unsorted, then it must be sorted first:\n",
    "\n",
    "- Unsorted Linear Search: O(N)\n",
    "- Sort + Binary Search: O(N log N) + O(log N)\n",
    "\n",
    "Python lists have a built in index() method that returns the index of an item in the list. It is a highly optimized linear sort of O(N)."
   ]
  },
  {
   "cell_type": "code",
   "execution_count": 15,
   "metadata": {},
   "outputs": [
    {
     "name": "stdout",
     "output_type": "stream",
     "text": [
      "The linear search on an unsorted list is the same as for a sorted list\n",
      "24.4 µs ± 513 ns per loop (mean ± std. dev. of 7 runs, 10000 loops each)\n"
     ]
    }
   ],
   "source": [
    "print(\"The linear search on an unsorted list is the same as for a sorted list\")\n",
    "%timeit linear_search(unsorted_nums, random.randrange(1000))"
   ]
  },
  {
   "cell_type": "code",
   "execution_count": 16,
   "metadata": {},
   "outputs": [
    {
     "name": "stdout",
     "output_type": "stream",
     "text": [
      "The binary search on an unsorted list is slightly slower because it must be sorted first.\n",
      "14.4 µs ± 218 ns per loop (mean ± std. dev. of 7 runs, 100000 loops each)\n"
     ]
    }
   ],
   "source": [
    "print(\"The binary search on an unsorted list is slightly slower because it must be sorted first.\")\n",
    "%timeit binary_search(sorted(unsorted_nums), random.randrange(1000))"
   ]
  },
  {
   "cell_type": "code",
   "execution_count": 17,
   "metadata": {},
   "outputs": [
    {
     "name": "stdout",
     "output_type": "stream",
     "text": [
      "Python's built in index function is highly optimized and uses C rather than our Python implementations above to do a linear search.\n",
      "5.92 µs ± 230 ns per loop (mean ± std. dev. of 7 runs, 100000 loops each)\n"
     ]
    }
   ],
   "source": [
    "print(\"Python's built in index function is highly optimized and uses C rather than our Python implementations above to do a linear search.\")\n",
    "%timeit unsorted_nums.index(random.randrange(1000))"
   ]
  }
 ],
 "metadata": {
  "kernelspec": {
   "display_name": "Python 3",
   "language": "python",
   "name": "python3"
  },
  "language_info": {
   "codemirror_mode": {
    "name": "ipython",
    "version": 3
   },
   "file_extension": ".py",
   "mimetype": "text/x-python",
   "name": "python",
   "nbconvert_exporter": "python",
   "pygments_lexer": "ipython3",
   "version": "3.7.3"
  },
  "varInspector": {
   "cols": {
    "lenName": 16,
    "lenType": 16,
    "lenVar": 40
   },
   "kernels_config": {
    "python": {
     "delete_cmd_postfix": "",
     "delete_cmd_prefix": "del ",
     "library": "var_list.py",
     "varRefreshCmd": "print(var_dic_list())"
    },
    "r": {
     "delete_cmd_postfix": ") ",
     "delete_cmd_prefix": "rm(",
     "library": "var_list.r",
     "varRefreshCmd": "cat(var_dic_list()) "
    }
   },
   "types_to_exclude": [
    "module",
    "function",
    "builtin_function_or_method",
    "instance",
    "_Feature"
   ],
   "window_display": false
  }
 },
 "nbformat": 4,
 "nbformat_minor": 2
}

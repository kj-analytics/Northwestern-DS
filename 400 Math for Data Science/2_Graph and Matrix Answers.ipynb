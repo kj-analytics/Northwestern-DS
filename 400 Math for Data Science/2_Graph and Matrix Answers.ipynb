{
 "cells": [
  {
   "cell_type": "markdown",
   "metadata": {},
   "source": [
    "# Graph and Matrix Answers"
   ]
  },
  {
   "cell_type": "markdown",
   "metadata": {},
   "source": [
    "## Graph Answers\n",
    "\n",
    "**Exercise:** Refer to Lial Section 2.1 Problem 46. Solve for a and b using the Echelon Method. Plot the resulting quadratic function. Compare the code and plot with the answer sheet.\n",
    "\n",
    "Write and execute code for the following exercises. Compare to the answer sheets. These problems can be solved using the interpreter."
   ]
  },
  {
   "cell_type": "code",
   "execution_count": 3,
   "metadata": {},
   "outputs": [
    {
     "data": {
      "text/plain": [
       "[<matplotlib.lines.Line2D at 0x1182fdc18>]"
      ]
     },
     "execution_count": 3,
     "metadata": {},
     "output_type": "execute_result"
    },
    {
     "data": {
      "image/png": "[encoded data removed]",
      "text/plain": [
       "<matplotlib.figure.Figure at 0x110636f98>"
      ]
     },
     "metadata": {},
     "output_type": "display_data"
    }
   ],
   "source": [
    "from matplotlib.pyplot import * \n",
    "from numpy import linspace\n",
    "\n",
    "figure() \n",
    "x=linspace(0,100,100) \n",
    "y=0.056057*x*x+1.06657*x \n",
    "y55=0.056057*(55)**2+1.06657*(55) \n",
    "xlabel('Speed (mph)') \n",
    "ylabel('Stopping Distance (ft)')\n",
    "title('Plot of Stopping Distance vs Speed')\n",
    "scatter(55,y55,c='y',s=40)\n",
    "plot(x,y)"
   ]
  },
  {
   "cell_type": "markdown",
   "metadata": {},
   "source": [
    "## Matrix Answers\n",
    "\n",
    "**Exercise:** Refer to Lial Section 2.3 Example 7. Write the code which reproduces the calculations shown in that example. For the array which results, slice it to show 1) second row, 2) the third column and 3) the single element common to (1) and (2). Use the demonstrated array methods. Compare your code and results to the answer sheet."
   ]
  },
  {
   "cell_type": "code",
   "execution_count": 4,
   "metadata": {},
   "outputs": [
    {
     "name": "stdout",
     "output_type": "stream",
     "text": [
      "\n",
      "Array C\n",
      "[[22 25 38]\n",
      " [31 34 35]]\n",
      "\n",
      "Array K\n",
      "[[ 5 10  8]\n",
      " [11 14 15]]\n",
      "\n",
      "Result of Subtraction\n",
      "[[17 15 30]\n",
      " [20 20 20]]\n",
      "\n",
      "Second Row of Result is [20 20 20]\n",
      "Third Column of Result is [30 20]\n",
      "Common Element is 20\n"
     ]
    }
   ],
   "source": [
    "from numpy import array\n",
    "\n",
    "C=array([[22,25,38],[31,34,35]]) \n",
    "print ('\\nArray C') \n",
    "print (C)\n",
    "K=array([[5,10,8],[11,14,15]]) \n",
    "print ('\\nArray K') \n",
    "print (K)\n",
    "M=C-K \n",
    "print ('\\nResult of Subtraction') \n",
    "print (M) \n",
    "print ('\\nSecond Row of Result is %s' %M[1,:]) \n",
    "print ('Third Column of Result is %s' %M[:,2]) \n",
    "print ('Common Element is %r' %M[1,2])"
   ]
  },
  {
   "cell_type": "code",
   "execution_count": null,
   "metadata": {},
   "outputs": [],
   "source": []
  }
 ],
 "metadata": {
  "kernelspec": {
   "display_name": "Python 3",
   "language": "python",
   "name": "python3"
  },
  "language_info": {
   "codemirror_mode": {
    "name": "ipython",
    "version": 3
   },
   "file_extension": ".py",
   "mimetype": "text/x-python",
   "name": "python",
   "nbconvert_exporter": "python",
   "pygments_lexer": "ipython3",
   "version": "3.7.3"
  }
 },
 "nbformat": 4,
 "nbformat_minor": 2
}
